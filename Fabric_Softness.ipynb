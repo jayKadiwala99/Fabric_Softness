{
  "nbformat": 4,
  "nbformat_minor": 0,
  "metadata": {
    "colab": {
      "name": "SGP_18IT044.ipynb",
      "provenance": [],
      "collapsed_sections": []
    },
    "kernelspec": {
      "name": "python3",
      "display_name": "Python 3"
    }
  },
  "cells": [
    {
      "cell_type": "markdown",
      "metadata": {
        "id": "XMrHpQRqJVN8"
      },
      "source": [
        "**Fabric softness prediction using supervised machine learning**"
      ]
    },
    {
      "cell_type": "markdown",
      "metadata": {
        "id": "fSoin1GVkw2_"
      },
      "source": [
        "**Importing Libraries**"
      ]
    },
    {
      "cell_type": "code",
      "metadata": {
        "id": "4P857Eh4UVqr"
      },
      "source": [
        "import numpy as np\n",
        "import matplotlib.pyplot as plt\n",
        "import seaborn as sns\n",
        "import pandas as pd\n",
        "from sklearn.linear_model import LinearRegression\n",
        "from sklearn.metrics import mean_squared_error, r2_score\n",
        "from sklearn.model_selection import train_test_split \n",
        "import math"
      ],
      "execution_count": null,
      "outputs": []
    },
    {
      "cell_type": "markdown",
      "metadata": {
        "id": "bD-quBFLSqDR"
      },
      "source": [
        "**importinging the dataset**"
      ]
    },
    {
      "cell_type": "code",
      "metadata": {
        "id": "oE5RuXrgVN2s",
        "colab": {
          "base_uri": "https://localhost:8080/"
        },
        "outputId": "e535a20a-207a-48a3-ed08-d34880141e8a"
      },
      "source": [
        "dataset = pd.read_csv('Softness(1).csv')\n",
        "X = dataset.iloc[:, 1:-1].values\n",
        "y = dataset.iloc[:, -1].values\n",
        "print(dataset.head())"
      ],
      "execution_count": null,
      "outputs": [
        {
          "output_type": "stream",
          "text": [
            "   Batch No  Total Weight(Kgs)  ...  Temprature(Celcius)  Reduced Weight(Kgs)\n",
            "0         1                 64  ...                   90                55.78\n",
            "1         2                 62  ...                   95                52.64\n",
            "2         3                 61  ...                   93                54.55\n",
            "3         4                 67  ...                   91                60.56\n",
            "4         5                 66  ...                   96                59.59\n",
            "\n",
            "[5 rows x 7 columns]\n"
          ],
          "name": "stdout"
        }
      ]
    },
    {
      "cell_type": "code",
      "metadata": {
        "colab": {
          "base_uri": "https://localhost:8080/",
          "height": 254
        },
        "id": "Jp45YIJOeLaX",
        "outputId": "227ee2b6-500a-4001-e688-840a4295c2df"
      },
      "source": [
        "dataset.corr()"
      ],
      "execution_count": null,
      "outputs": [
        {
          "output_type": "execute_result",
          "data": {
            "text/html": [
              "<div>\n",
              "<style scoped>\n",
              "    .dataframe tbody tr th:only-of-type {\n",
              "        vertical-align: middle;\n",
              "    }\n",
              "\n",
              "    .dataframe tbody tr th {\n",
              "        vertical-align: top;\n",
              "    }\n",
              "\n",
              "    .dataframe thead th {\n",
              "        text-align: right;\n",
              "    }\n",
              "</style>\n",
              "<table border=\"1\" class=\"dataframe\">\n",
              "  <thead>\n",
              "    <tr style=\"text-align: right;\">\n",
              "      <th></th>\n",
              "      <th>Batch No</th>\n",
              "      <th>Total Weight(Kgs)</th>\n",
              "      <th>Total Meters</th>\n",
              "      <th>NaOH(Kgs)</th>\n",
              "      <th>Purity of Water(ppm)</th>\n",
              "      <th>Temprature(Celcius)</th>\n",
              "      <th>Reduced Weight(Kgs)</th>\n",
              "    </tr>\n",
              "  </thead>\n",
              "  <tbody>\n",
              "    <tr>\n",
              "      <th>Batch No</th>\n",
              "      <td>1.000000</td>\n",
              "      <td>0.084030</td>\n",
              "      <td>0.038888</td>\n",
              "      <td>0.151360</td>\n",
              "      <td>0.051380</td>\n",
              "      <td>-0.056893</td>\n",
              "      <td>-0.152925</td>\n",
              "    </tr>\n",
              "    <tr>\n",
              "      <th>Total Weight(Kgs)</th>\n",
              "      <td>0.084030</td>\n",
              "      <td>1.000000</td>\n",
              "      <td>0.011531</td>\n",
              "      <td>0.723998</td>\n",
              "      <td>-0.103573</td>\n",
              "      <td>-0.023954</td>\n",
              "      <td>-0.245629</td>\n",
              "    </tr>\n",
              "    <tr>\n",
              "      <th>Total Meters</th>\n",
              "      <td>0.038888</td>\n",
              "      <td>0.011531</td>\n",
              "      <td>1.000000</td>\n",
              "      <td>-0.165727</td>\n",
              "      <td>-0.128474</td>\n",
              "      <td>0.085033</td>\n",
              "      <td>0.200593</td>\n",
              "    </tr>\n",
              "    <tr>\n",
              "      <th>NaOH(Kgs)</th>\n",
              "      <td>0.151360</td>\n",
              "      <td>0.723998</td>\n",
              "      <td>-0.165727</td>\n",
              "      <td>1.000000</td>\n",
              "      <td>-0.018642</td>\n",
              "      <td>0.078358</td>\n",
              "      <td>-0.815941</td>\n",
              "    </tr>\n",
              "    <tr>\n",
              "      <th>Purity of Water(ppm)</th>\n",
              "      <td>0.051380</td>\n",
              "      <td>-0.103573</td>\n",
              "      <td>-0.128474</td>\n",
              "      <td>-0.018642</td>\n",
              "      <td>1.000000</td>\n",
              "      <td>0.083017</td>\n",
              "      <td>-0.001433</td>\n",
              "    </tr>\n",
              "    <tr>\n",
              "      <th>Temprature(Celcius)</th>\n",
              "      <td>-0.056893</td>\n",
              "      <td>-0.023954</td>\n",
              "      <td>0.085033</td>\n",
              "      <td>0.078358</td>\n",
              "      <td>0.083017</td>\n",
              "      <td>1.000000</td>\n",
              "      <td>-0.143597</td>\n",
              "    </tr>\n",
              "    <tr>\n",
              "      <th>Reduced Weight(Kgs)</th>\n",
              "      <td>-0.152925</td>\n",
              "      <td>-0.245629</td>\n",
              "      <td>0.200593</td>\n",
              "      <td>-0.815941</td>\n",
              "      <td>-0.001433</td>\n",
              "      <td>-0.143597</td>\n",
              "      <td>1.000000</td>\n",
              "    </tr>\n",
              "  </tbody>\n",
              "</table>\n",
              "</div>"
            ],
            "text/plain": [
              "                      Batch No  ...  Reduced Weight(Kgs)\n",
              "Batch No              1.000000  ...            -0.152925\n",
              "Total Weight(Kgs)     0.084030  ...            -0.245629\n",
              "Total Meters          0.038888  ...             0.200593\n",
              "NaOH(Kgs)             0.151360  ...            -0.815941\n",
              "Purity of Water(ppm)  0.051380  ...            -0.001433\n",
              "Temprature(Celcius)  -0.056893  ...            -0.143597\n",
              "Reduced Weight(Kgs)  -0.152925  ...             1.000000\n",
              "\n",
              "[7 rows x 7 columns]"
            ]
          },
          "metadata": {
            "tags": []
          },
          "execution_count": 3
        }
      ]
    },
    {
      "cell_type": "code",
      "metadata": {
        "id": "zdxFYSunf27b"
      },
      "source": [
        "X_train, X_test, y_train, y_test = train_test_split(X, y, test_size = 0.2, random_state = 0)"
      ],
      "execution_count": null,
      "outputs": []
    },
    {
      "cell_type": "code",
      "metadata": {
        "colab": {
          "base_uri": "https://localhost:8080/"
        },
        "id": "-25N80sigCvC",
        "outputId": "d21429b6-4b49-4c18-85c2-b54f3a32ba35"
      },
      "source": [
        "from sklearn.linear_model import LinearRegression\n",
        "regressor = LinearRegression()\n",
        "regressor.fit(X_train, y_train)"
      ],
      "execution_count": null,
      "outputs": [
        {
          "output_type": "execute_result",
          "data": {
            "text/plain": [
              "LinearRegression(copy_X=True, fit_intercept=True, n_jobs=None, normalize=False)"
            ]
          },
          "metadata": {
            "tags": []
          },
          "execution_count": 5
        }
      ]
    },
    {
      "cell_type": "code",
      "metadata": {
        "colab": {
          "base_uri": "https://localhost:8080/"
        },
        "id": "Ys6I-VnegJm5",
        "outputId": "0eff86c3-4335-4c10-f4e7-9ae476135c42"
      },
      "source": [
        "y_pred = regressor.predict(X_test)\n",
        "np.set_printoptions(precision=2)\n",
        "#print(y_pred.reshape(len(y_pred),1))\n",
        "#print(y_test.reshape(len(y_test),1))\n",
        "print(regressor.intercept_)\n",
        "print(regressor.coef_)\n",
        "\n",
        "print(regressor.score(X_test, y_test))"
      ],
      "execution_count": null,
      "outputs": [
        {
          "output_type": "stream",
          "text": [
            "4.270098716112685\n",
            "[ 1.01 -0.   -0.02  0.01 -0.06]\n",
            "0.8879721764139517\n"
          ],
          "name": "stdout"
        }
      ]
    },
    {
      "cell_type": "code",
      "metadata": {
        "colab": {
          "base_uri": "https://localhost:8080/",
          "height": 352
        },
        "id": "SxLWZJemL6-j",
        "outputId": "41d5d0b0-8ad8-41f2-98c4-f7df69969dc7"
      },
      "source": [
        "vs1 = sns.scatterplot(y_pred,y_test)\n",
        "vs1.set_xlabel('Actual Value')\n",
        "vs1.set_ylabel('Predicted Value')"
      ],
      "execution_count": null,
      "outputs": [
        {
          "output_type": "stream",
          "text": [
            "/usr/local/lib/python3.7/dist-packages/seaborn/_decorators.py:43: FutureWarning: Pass the following variables as keyword args: x, y. From version 0.12, the only valid positional argument will be `data`, and passing other arguments without an explicit keyword will result in an error or misinterpretation.\n",
            "  FutureWarning\n"
          ],
          "name": "stderr"
        },
        {
          "output_type": "execute_result",
          "data": {
            "text/plain": [
              "Text(0, 0.5, 'Predicted Value')"
            ]
          },
          "metadata": {
            "tags": []
          },
          "execution_count": 7
        },
        {
          "output_type": "display_data",
          "data": {
            "image/png": "[encoded data removed]",
            "text/plain": [
              "<Figure size 432x288 with 1 Axes>"
            ]
          },
          "metadata": {
            "tags": [],
            "needs_background": "light"
          }
        }
      ]
    },
    {
      "cell_type": "code",
      "metadata": {
        "colab": {
          "base_uri": "https://localhost:8080/"
        },
        "id": "jyxImEgoglQ9",
        "outputId": "53b01f96-c7bb-4639-dce5-2e7d30512441"
      },
      "source": [
        "#printing Error and accuracy rate\n",
        "print(\"RMSE: \", math.sqrt(mean_squared_error(y_test,y_pred)), \"R2 Score:\", r2_score(y_test,y_pred))"
      ],
      "execution_count": null,
      "outputs": [
        {
          "output_type": "stream",
          "text": [
            "RMSE:  1.4049018877500112 R2 Score: 0.8879721764139517\n"
          ],
          "name": "stdout"
        }
      ]
    },
    {
      "cell_type": "markdown",
      "metadata": {
        "id": "HIvUIPG7oK1b"
      },
      "source": [
        "**After applying Feature Scaling**"
      ]
    },
    {
      "cell_type": "code",
      "metadata": {
        "colab": {
          "base_uri": "https://localhost:8080/"
        },
        "id": "7s42YC4ooP0-",
        "outputId": "3b69f698-3955-4e69-c69b-0e6cc4f7e86c"
      },
      "source": [
        "dataset_fs = pd.read_csv('Softness(1).csv')\n",
        "from sklearn.preprocessing import StandardScaler\n",
        "sc = StandardScaler()\n",
        "data_af_fs = sc.fit(dataset_fs)\n",
        "\n",
        "X_fs = dataset_fs.iloc[:, 1:-1].values\n",
        "y_fs = dataset_fs.iloc[:, -1].values\n",
        "\n",
        "X_train_fs, X_test_fs, y_train_fs, y_test_fs = train_test_split(X, y, test_size = 0.2, random_state = 0)\n",
        "\n",
        "regressor_fs = LinearRegression()\n",
        "regressor_fs.fit(X_train_fs, y_train_fs)\n",
        "\n",
        "y_pred = regressor_fs.predict(X_test_fs)\n",
        "\n",
        "print(regressor_fs.score(X_test_fs, y_test_fs))"
      ],
      "execution_count": null,
      "outputs": [
        {
          "output_type": "stream",
          "text": [
            "0.8879721764139517\n"
          ],
          "name": "stdout"
        }
      ]
    },
    {
      "cell_type": "markdown",
      "metadata": {
        "id": "gc1S_kZr3GZn"
      },
      "source": [
        "**Rigde and Lasso Regression**"
      ]
    },
    {
      "cell_type": "code",
      "metadata": {
        "colab": {
          "base_uri": "https://localhost:8080/"
        },
        "id": "bghxTDWi3Xa-",
        "outputId": "b43e3edb-c73d-493f-ad95-ed63466f4185"
      },
      "source": [
        "from sklearn.linear_model import Ridge, Lasso\n",
        "rd = Ridge()\n",
        "rd.fit(X_train, y_train)\n",
        "\n",
        "y_pred_rd = rd.predict(X_test)\n",
        "\n",
        "print(rd.score(X_test, y_test))\n",
        "print(rd.intercept_)\n",
        "print(rd.coef_)\n",
        "\n",
        "\n",
        "print(\"RMSE: \", math.sqrt(mean_squared_error(y_test,y_pred_rd)), \"R2 Score:\", r2_score(y_test,y_pred_rd))"
      ],
      "execution_count": null,
      "outputs": [
        {
          "output_type": "stream",
          "text": [
            "0.8880211624610592\n",
            "4.382653912847495\n",
            "[ 1.01 -0.   -0.02  0.01 -0.06]\n",
            "RMSE:  1.4045946956938922 R2 Score: 0.8880211624610592\n"
          ],
          "name": "stdout"
        }
      ]
    },
    {
      "cell_type": "code",
      "metadata": {
        "colab": {
          "base_uri": "https://localhost:8080/"
        },
        "id": "ADMkzooe7GLm",
        "outputId": "bbbc38d9-38b0-4112-9975-b30ec6db8d3f"
      },
      "source": [
        "#alpha increases in ridge\n",
        "from sklearn.linear_model import Ridge, Lasso\n",
        "rd = Ridge(alpha=55)\n",
        "rd.fit(X_train, y_train)\n",
        "\n",
        "y_pred_rd = rd.predict(X_test)\n",
        "\n",
        "print(rd.score(X_test, y_test))\n",
        "print(rd.intercept_)\n",
        "print(rd.coef_)\n",
        "\n",
        "print(\"RMSE: \", math.sqrt(mean_squared_error(y_test,y_pred_rd)), \"R2 Score:\", r2_score(y_test,y_pred_rd))"
      ],
      "execution_count": null,
      "outputs": [
        {
          "output_type": "stream",
          "text": [
            "0.8886962966909815\n",
            "9.773073345192877\n",
            "[ 0.92 -0.   -0.02  0.01 -0.06]\n",
            "RMSE:  1.4003540568216972 R2 Score: 0.8886962966909815\n"
          ],
          "name": "stdout"
        }
      ]
    },
    {
      "cell_type": "code",
      "metadata": {
        "colab": {
          "base_uri": "https://localhost:8080/",
          "height": 352
        },
        "id": "iDiRAUbS4JOW",
        "outputId": "b53e7a94-14f5-4881-83f3-87789e2e94db"
      },
      "source": [
        "vs1 = sns.scatterplot(y_pred_rd,y_test)\n",
        "vs1.set_xlabel('Actual Value')\n",
        "vs1.set_ylabel('Predicted Value')"
      ],
      "execution_count": null,
      "outputs": [
        {
          "output_type": "stream",
          "text": [
            "/usr/local/lib/python3.7/dist-packages/seaborn/_decorators.py:43: FutureWarning: Pass the following variables as keyword args: x, y. From version 0.12, the only valid positional argument will be `data`, and passing other arguments without an explicit keyword will result in an error or misinterpretation.\n",
            "  FutureWarning\n"
          ],
          "name": "stderr"
        },
        {
          "output_type": "execute_result",
          "data": {
            "text/plain": [
              "Text(0, 0.5, 'Predicted Value')"
            ]
          },
          "metadata": {
            "tags": []
          },
          "execution_count": 19
        },
        {
          "output_type": "display_data",
          "data": {
            "image/png": "[encoded data removed]",
            "text/plain": [
              "<Figure size 432x288 with 1 Axes>"
            ]
          },
          "metadata": {
            "tags": [],
            "needs_background": "light"
          }
        }
      ]
    },
    {
      "cell_type": "code",
      "metadata": {
        "colab": {
          "base_uri": "https://localhost:8080/"
        },
        "id": "q-zwkWCu6TJC",
        "outputId": "3fe11b72-e7b3-4e94-e267-767c261b4b11"
      },
      "source": [
        "ls = Lasso(alpha=5)\n",
        "ls.fit(X_train, y_train)\n",
        "\n",
        "y_pred_ls = ls.predict(X_test)\n",
        "\n",
        "#print(rd.score(X_test, y_test))\n",
        "print(ls.intercept_)\n",
        "print(ls.coef_)\n",
        "print(\"RMSE: \", math.sqrt(mean_squared_error(y_test,y_pred_ls)), \"R2 Score:\", r2_score(y_test,y_pred_ls))"
      ],
      "execution_count": null,
      "outputs": [
        {
          "output_type": "stream",
          "text": [
            "59.2066245366585\n",
            "[ 0.    0.   -0.01 -0.   -0.  ]\n",
            "RMSE:  2.3278687588307374 R2 Score: 0.6924251006823187\n"
          ],
          "name": "stdout"
        }
      ]
    }
  ]
}